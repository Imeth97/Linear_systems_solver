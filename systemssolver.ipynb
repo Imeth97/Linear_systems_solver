{
 "cells": [
  {
   "cell_type": "code",
   "execution_count": 17,
   "metadata": {},
   "outputs": [
    {
     "data": {
      "text/plain": [
       "'\\n\\n1. Convert to row echelon form \\n\\n'"
      ]
     },
     "execution_count": 17,
     "metadata": {},
     "output_type": "execute_result"
    }
   ],
   "source": [
    "'''\n",
    "\n",
    "1. Convert to row echelon form \n",
    "\n",
    "'''"
   ]
  },
  {
   "cell_type": "code",
   "execution_count": 18,
   "metadata": {},
   "outputs": [
    {
     "data": {
      "text/plain": [
       "'the fist non zero entry in\\neach non zero row called a\\nleading entry or pivot is the to the\\nright of the pivots in the rows\\nabove it'"
      ]
     },
     "execution_count": 18,
     "metadata": {},
     "output_type": "execute_result"
    }
   ],
   "source": [
    "'''the fist non zero entry in\n",
    "each non zero row called a\n",
    "leading entry or pivot is the to the\n",
    "right of the pivots in the rows\n",
    "above it'''\n"
   ]
  },
  {
   "cell_type": "code",
   "execution_count": 19,
   "metadata": {},
   "outputs": [],
   "source": [
    "#ORIGINAL FUNCTION, THIS WORKS***\n",
    "\n",
    "def echelon(coefficients, answers):\n",
    "    '''\n",
    "    Rx = Rx - (Rx[0]/R0[0])*R0\n",
    "    '''\n",
    "    n = len(coefficients)\n",
    "    \n",
    "    for row in range(1,n):\n",
    "        \n",
    "        mult = coefficients[row][0]/coefficients[0][0] #(Rx[0]/R0[0])\n",
    "        \n",
    "        for col in range(n):\n",
    "            row_zero_val = coefficients[0][col]#R0[col]\n",
    "            \n",
    "            row_current_val = coefficients[row][col]#Rx[col]\n",
    "            \n",
    "            \n",
    "            coefficients[row][col]=coefficients[row][col] - mult*row_zero_val\n",
    "        \n",
    "        print(answers)\n",
    "        answers[row] = answers[row] - mult * answers[0]\n",
    "        \n",
    "        if is_row_echelon(coefficients)==True:\n",
    "            return coefficients, answers\n",
    "    \n",
    "    return 'Cannot Perform row echelon'\n",
    "            \n",
    "        \n",
    "    "
   ]
  },
  {
   "cell_type": "code",
   "execution_count": 20,
   "metadata": {},
   "outputs": [],
   "source": [
    "\n",
    "def echelon(coefficients, answers):\n",
    "    '''\n",
    "    Rx = Rx - (Rx[0]/R0[0])*R0\n",
    "    '''\n",
    "    n = len(coefficients)\n",
    "    \n",
    "    for start in range(n):\n",
    "        \n",
    "        \n",
    "    \n",
    "        for row in range(start+1,n):\n",
    "\n",
    "            mult = coefficients[row][start]/coefficients[start][start] #(Rx[0]/R0[0])\n",
    "\n",
    "            for col in range(start,n):\n",
    "                row_start_val = coefficients[start][col]#R0[col]\n",
    "\n",
    "                row_current_val = coefficients[row][col]#Rx[col]\n",
    "\n",
    "\n",
    "                coefficients[row][col]=row_current_val - mult*row_start_val\n",
    "\n",
    "            #print(answers)\n",
    "            answers[row] = answers[row] - mult * answers[start]\n",
    "\n",
    "        if is_row_echelon(coefficients)==True:\n",
    "                return coefficients, answers\n",
    "\n",
    "        \n",
    "        \n",
    "        \n",
    "   \n",
    "    \n",
    "    return 'Cannot Perform row echelon'\n",
    "            \n",
    "        \n",
    "    "
   ]
  },
  {
   "cell_type": "code",
   "execution_count": 21,
   "metadata": {},
   "outputs": [],
   "source": [
    "c = [[1,2,-1],[2,5,-1],[1,3,-3]]\n",
    "a = [6,13,4]"
   ]
  },
  {
   "cell_type": "code",
   "execution_count": 22,
   "metadata": {},
   "outputs": [
    {
     "data": {
      "text/plain": [
       "([[1, 2, -1], [0.0, 1.0, 1.0], [0.0, 0.0, -3.0]], [6, 1.0, -3.0])"
      ]
     },
     "execution_count": 22,
     "metadata": {},
     "output_type": "execute_result"
    }
   ],
   "source": [
    "echelon(c,a)"
   ]
  },
  {
   "cell_type": "code",
   "execution_count": 23,
   "metadata": {},
   "outputs": [
    {
     "data": {
      "text/plain": [
       "([[-2, 0, 1], [0.0, 7.0, 0.5], [0.0, 0.0, 3.5714285714285716]],\n",
       " [-4, -48.0, -42.857142857142854])"
      ]
     },
     "execution_count": 23,
     "metadata": {},
     "output_type": "execute_result"
    }
   ],
   "source": [
    "x = [[-2,0,1],[-1,7,1],[5,-1,1]]\n",
    "y = [-4,-50,-26]\n",
    "echelon(x,y)"
   ]
  },
  {
   "cell_type": "code",
   "execution_count": null,
   "metadata": {},
   "outputs": [],
   "source": []
  },
  {
   "cell_type": "code",
   "execution_count": 24,
   "metadata": {},
   "outputs": [],
   "source": [
    "def is_row_echelon(a):\n",
    "    n = len(a)\n",
    "    \n",
    "    for row in range(n-1):\n",
    "        in_index = 0\n",
    "        \n",
    "        for element in range(len(a[row])):\n",
    "            \n",
    "            if a[row][element] != 0:\n",
    "                in_index = element+1\n",
    "                break\n",
    "        \n",
    "        \n",
    "        for i in range(0,in_index):\n",
    "            \n",
    "            if a[row+1][i] != 0:\n",
    "                return False\n",
    "    \n",
    "    return True\n",
    "                \n",
    "        \n",
    "            \n",
    "            \n",
    "            \n",
    "            "
   ]
  },
  {
   "cell_type": "code",
   "execution_count": null,
   "metadata": {},
   "outputs": [],
   "source": [
    "\n",
    "\n",
    "    \n",
    "    "
   ]
  },
  {
   "cell_type": "code",
   "execution_count": 25,
   "metadata": {},
   "outputs": [
    {
     "data": {
      "text/plain": [
       "([[1, 1, 1], [0.0, -2.0, 1.0], [0.0, 0.0, 0.0]], [2, 1.0, -1.0])"
      ]
     },
     "execution_count": 25,
     "metadata": {},
     "output_type": "execute_result"
    }
   ],
   "source": [
    "a = [[1, 1, 1],\n",
    "    [2, 0, 3],\n",
    "     [3, 1, 4]]\n",
    "b = [2, 5, 6]\n",
    "echelon(a,b)"
   ]
  },
  {
   "cell_type": "code",
   "execution_count": 26,
   "metadata": {},
   "outputs": [],
   "source": [
    "def solve(coefficients, answers):\n",
    "    \n",
    "    #check if no solutions exist to the system, and gather null rows\n",
    "    n = len(coefficients)\n",
    "    x = len(answers)*[0]\n",
    "    null_rows = []\n",
    "    for row in range(n):\n",
    "        \n",
    "        for element in coefficients[row]:\n",
    "            if element != 0:\n",
    "                break\n",
    "        else:\n",
    "            null_rows += [row]\n",
    "            if answers[row] != 0:\n",
    "                print('NO SOLUTIONS!')\n",
    "                return None\n",
    "    \n",
    "    #THERE ARE SOLUTIONS!\n",
    "    for row in range(n-1,-1,-1):\n",
    "        \n",
    "        if row not in null_rows:\n",
    "            #print(row)\n",
    "            total = 0\n",
    "            for col in range(n-1,-1,-1):\n",
    "                \n",
    "                total += coefficients[row][col] * x[col]\n",
    "            \n",
    "            \n",
    "            #print(coefficients[row], col,total)\n",
    "            \n",
    "            if coefficients[row][row]!=0:\n",
    "                '''\n",
    "                print(answers[row])\n",
    "                print((answers[row] - total))\n",
    "                '''\n",
    "                x[row] = (answers[row] - total)/coefficients[row][row]\n",
    "            else:\n",
    "                x[row]=0\n",
    "        \n",
    "    \n",
    "    return x\n",
    "                    \n",
    "                \n",
    "            \n",
    "            \n",
    "            \n",
    "    \n",
    "    \n",
    "    \n",
    "    \n",
    "    \n",
    "    "
   ]
  },
  {
   "cell_type": "code",
   "execution_count": 27,
   "metadata": {},
   "outputs": [
    {
     "name": "stdout",
     "output_type": "stream",
     "text": [
      "NO SOLUTIONS!\n"
     ]
    }
   ],
   "source": [
    "u = [[1, 1, 1],\n",
    "    [2, 0, 3],\n",
    "     [3, 1, 4]]\n",
    "b = [2, 5, 6]\n",
    "\n",
    "u,b = echelon(u,b)\n",
    "\n",
    "solve(u,b)"
   ]
  },
  {
   "cell_type": "code",
   "execution_count": 34,
   "metadata": {},
   "outputs": [
    {
     "data": {
      "text/plain": [
       "[1.9999999999999996, 1.0, -1.9999999999999996]"
      ]
     },
     "execution_count": 34,
     "metadata": {},
     "output_type": "execute_result"
    }
   ],
   "source": [
    "c = [[2,3,2],\n",
    "    [4,-5,5],\n",
    "    [-3,7,-2]]\n",
    "\n",
    "a = [3,-7,5]\n",
    "c,a = echelon(c,a)\n",
    "solve(c,a)\n",
    "\n"
   ]
  },
  {
   "cell_type": "code",
   "execution_count": 31,
   "metadata": {},
   "outputs": [],
   "source": [
    "def validate(val):\n",
    "    '''\n",
    "    Validate type: int\n",
    "    '''\n",
    "    res = False if type(val)!=int else True\n",
    "    return res\n",
    "    \n",
    "    \n",
    "    "
   ]
  },
  {
   "cell_type": "code",
   "execution_count": 50,
   "metadata": {},
   "outputs": [
    {
     "data": {
      "text/plain": [
       "[-1.9999999999999973, 1.9999999999999993, 4.999999999999997]"
      ]
     },
     "execution_count": 50,
     "metadata": {},
     "output_type": "execute_result"
    }
   ],
   "source": [
    "c = [[2,4,1],[-1,1,-1],[1,4,0]]\n",
    "a = [9,-1,6]\n",
    "c,a = echelon(c,a)\n",
    "solve(c,a)"
   ]
  },
  {
   "cell_type": "code",
   "execution_count": null,
   "metadata": {},
   "outputs": [],
   "source": []
  },
  {
   "cell_type": "code",
   "execution_count": null,
   "metadata": {},
   "outputs": [],
   "source": []
  }
 ],
 "metadata": {
  "kernelspec": {
   "display_name": "Python 3",
   "language": "python",
   "name": "python3"
  },
  "language_info": {
   "codemirror_mode": {
    "name": "ipython",
    "version": 3
   },
   "file_extension": ".py",
   "mimetype": "text/x-python",
   "name": "python",
   "nbconvert_exporter": "python",
   "pygments_lexer": "ipython3",
   "version": "3.8.5"
  }
 },
 "nbformat": 4,
 "nbformat_minor": 4
}
